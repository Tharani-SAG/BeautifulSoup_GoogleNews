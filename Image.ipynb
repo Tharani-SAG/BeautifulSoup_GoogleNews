{
 "cells": [
  {
   "cell_type": "code",
   "execution_count": 6,
   "metadata": {},
   "outputs": [
    {
     "name": "stdout",
     "output_type": "stream",
     "text": [
      "Requirement already satisfied: pillow in c:\\users\\user\\anaconda3\\lib\\site-packages (6.2.0)\n",
      "Note: you may need to restart the kernel to use updated packages.\n"
     ]
    }
   ],
   "source": [
    "\n",
    "pip install pillow"
   ]
  },
  {
   "cell_type": "code",
   "execution_count": 7,
   "metadata": {},
   "outputs": [],
   "source": [
    "import urllib\n",
    "from PIL import Image\n",
    "import requests\n",
    "from io import BytesIO\n",
    "from bs4 import BeautifulSoup\n",
    "\n",
    "google_news = urllib.request.urlopen('https://news.google.com/topstories?hl=en-IN&gl=IN&ceid=IN:en').read()\n",
    "bs = BeautifulSoup(google_news)\n",
    "images = []\n",
    "img_tags = bs.find('body').findAll('img')\n",
    "for img in img_tags:\n",
    "   # print(img['src'])\n",
    "     images.append(img['src'])\n",
    "for image in images:\n",
    "    \n",
    "    response = requests.get(image)\n",
    "    img = Image.open(BytesIO(response.content))\n",
    "    img.show()    \n",
    "    \n",
    "    \n",
    "    \n",
    "    \n",
    "\n"
   ]
  },
  {
   "cell_type": "code",
   "execution_count": null,
   "metadata": {},
   "outputs": [],
   "source": []
  }
 ],
 "metadata": {
  "kernelspec": {
   "display_name": "Python 3",
   "language": "python",
   "name": "python3"
  },
  "language_info": {
   "codemirror_mode": {
    "name": "ipython",
    "version": 3
   },
   "file_extension": ".py",
   "mimetype": "text/x-python",
   "name": "python",
   "nbconvert_exporter": "python",
   "pygments_lexer": "ipython3",
   "version": "3.7.4"
  }
 },
 "nbformat": 4,
 "nbformat_minor": 2
}
